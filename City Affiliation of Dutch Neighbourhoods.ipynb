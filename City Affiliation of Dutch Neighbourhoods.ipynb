{
 "cells": [
  {
   "cell_type": "markdown",
   "metadata": {},
   "source": [
    "# Predict the City Affiliation of a Dutch Neighbourhood"
   ]
  },
  {
   "cell_type": "code",
   "execution_count": 1,
   "metadata": {},
   "outputs": [],
   "source": [
    "import math\n",
    "import numpy as np\n",
    "from pandas import Series, DataFrame\n",
    "import pandas as pd\n",
    "import matplotlib.pyplot as plt\n",
    "import seaborn as sns\n",
    "from sklearn.model_selection import train_test_split\n",
    "from sklearn.model_selection import cross_val_score\n",
    "from sklearn.model_selection import GridSearchCV\n",
    "\n",
    "#import scipy.stats as stats\n",
    "#plt.rc('figure', figsize=(10, 6))\n",
    "%matplotlib inline\n",
    "\n",
    "from IPython.core.interactiveshell import InteractiveShell\n",
    "InteractiveShell.ast_node_interactivity = \"all\""
   ]
  },
  {
   "cell_type": "code",
   "execution_count": 2,
   "metadata": {},
   "outputs": [
    {
     "data": {
      "text/plain": [
       "874476"
      ]
     },
     "execution_count": 2,
     "metadata": {},
     "output_type": "execute_result"
    }
   ],
   "source": [
    "df=pd.read_excel('kwb-2016.xls', decimal=\",\")\n",
    "df.size"
   ]
  },
  {
   "cell_type": "markdown",
   "metadata": {},
   "source": [
    "<b>Data Preparation</b>"
   ]
  },
  {
   "cell_type": "markdown",
   "metadata": {},
   "source": [
    "a) Clean the data"
   ]
  },
  {
   "cell_type": "code",
   "execution_count": 3,
   "metadata": {
    "scrolled": true
   },
   "outputs": [
    {
     "data": {
      "text/plain": [
       "(196, 54)"
      ]
     },
     "execution_count": 3,
     "metadata": {},
     "output_type": "execute_result"
    }
   ],
   "source": [
    "#1. Drop missing values\n",
    "df.replace('.', np.nan, inplace=True)\n",
    "df.dropna(how='any', inplace=True)\n",
    "\n",
    "#2. Select neighborhoods\n",
    "df = df[df['recs']=='Buurt']\n",
    "\n",
    "#3. Select cities: Rotterdam, Lelystad and Venlo \n",
    "df = df[df['gm_naam'].isin(['Rotterdam','Lelystad', 'Venlo'])]\n",
    "\n",
    "df.shape"
   ]
  },
  {
   "cell_type": "markdown",
   "metadata": {},
   "source": [
    "b) Engineer some features"
   ]
  },
  {
   "cell_type": "code",
   "execution_count": 4,
   "metadata": {},
   "outputs": [
    {
     "data": {
      "text/html": [
       "<div>\n",
       "<style scoped>\n",
       "    .dataframe tbody tr th:only-of-type {\n",
       "        vertical-align: middle;\n",
       "    }\n",
       "\n",
       "    .dataframe tbody tr th {\n",
       "        vertical-align: top;\n",
       "    }\n",
       "\n",
       "    .dataframe thead th {\n",
       "        text-align: right;\n",
       "    }\n",
       "</style>\n",
       "<table border=\"1\" class=\"dataframe\">\n",
       "  <thead>\n",
       "    <tr style=\"text-align: right;\">\n",
       "      <th></th>\n",
       "      <th>gm_naam</th>\n",
       "      <th>recs</th>\n",
       "      <th>a_inw</th>\n",
       "      <th>a_man</th>\n",
       "      <th>a_15_24</th>\n",
       "      <th>a_25_44</th>\n",
       "      <th>a_45_64</th>\n",
       "      <th>a_65_oo</th>\n",
       "      <th>a_gehuwd</th>\n",
       "      <th>a_gesch</th>\n",
       "      <th>...</th>\n",
       "      <th>a_lfto6j</th>\n",
       "      <th>a_bst_nb</th>\n",
       "      <th>g_pau_hh</th>\n",
       "      <th>g_pau_km</th>\n",
       "      <th>a_m2w</th>\n",
       "      <th>g_afs_gs</th>\n",
       "      <th>a_lan_ha</th>\n",
       "      <th>a_wat_ha</th>\n",
       "      <th>ste_mvs</th>\n",
       "      <th>ste_oad</th>\n",
       "    </tr>\n",
       "  </thead>\n",
       "  <tbody>\n",
       "    <tr>\n",
       "      <th>8611</th>\n",
       "      <td>Rotterdam</td>\n",
       "      <td>Buurt</td>\n",
       "      <td>14825</td>\n",
       "      <td>0.521079</td>\n",
       "      <td>0.146712</td>\n",
       "      <td>0.471838</td>\n",
       "      <td>0.188533</td>\n",
       "      <td>0.117032</td>\n",
       "      <td>0.213828</td>\n",
       "      <td>0.074874</td>\n",
       "      <td>...</td>\n",
       "      <td>0.203373</td>\n",
       "      <td>0.152108</td>\n",
       "      <td>0.8</td>\n",
       "      <td>6042</td>\n",
       "      <td>0.025970</td>\n",
       "      <td>0.3</td>\n",
       "      <td>0.009174</td>\n",
       "      <td>0.002496</td>\n",
       "      <td>1</td>\n",
       "      <td>6383</td>\n",
       "    </tr>\n",
       "    <tr>\n",
       "      <th>8612</th>\n",
       "      <td>Rotterdam</td>\n",
       "      <td>Buurt</td>\n",
       "      <td>9350</td>\n",
       "      <td>0.506952</td>\n",
       "      <td>0.158289</td>\n",
       "      <td>0.305882</td>\n",
       "      <td>0.252941</td>\n",
       "      <td>0.141176</td>\n",
       "      <td>0.236364</td>\n",
       "      <td>0.116043</td>\n",
       "      <td>...</td>\n",
       "      <td>0.171658</td>\n",
       "      <td>0.056684</td>\n",
       "      <td>0.5</td>\n",
       "      <td>4024</td>\n",
       "      <td>0.011230</td>\n",
       "      <td>0.3</td>\n",
       "      <td>0.006096</td>\n",
       "      <td>0.000000</td>\n",
       "      <td>1</td>\n",
       "      <td>6397</td>\n",
       "    </tr>\n",
       "    <tr>\n",
       "      <th>8613</th>\n",
       "      <td>Rotterdam</td>\n",
       "      <td>Buurt</td>\n",
       "      <td>5395</td>\n",
       "      <td>0.515292</td>\n",
       "      <td>0.121409</td>\n",
       "      <td>0.469880</td>\n",
       "      <td>0.196478</td>\n",
       "      <td>0.131603</td>\n",
       "      <td>0.189064</td>\n",
       "      <td>0.102873</td>\n",
       "      <td>...</td>\n",
       "      <td>0.181650</td>\n",
       "      <td>0.073216</td>\n",
       "      <td>0.5</td>\n",
       "      <td>2581</td>\n",
       "      <td>0.014829</td>\n",
       "      <td>0.2</td>\n",
       "      <td>0.011307</td>\n",
       "      <td>0.000000</td>\n",
       "      <td>1</td>\n",
       "      <td>6283</td>\n",
       "    </tr>\n",
       "    <tr>\n",
       "      <th>8615</th>\n",
       "      <td>Rotterdam</td>\n",
       "      <td>Buurt</td>\n",
       "      <td>1575</td>\n",
       "      <td>0.552381</td>\n",
       "      <td>0.279365</td>\n",
       "      <td>0.285714</td>\n",
       "      <td>0.228571</td>\n",
       "      <td>0.146032</td>\n",
       "      <td>0.266667</td>\n",
       "      <td>0.060317</td>\n",
       "      <td>...</td>\n",
       "      <td>0.260317</td>\n",
       "      <td>0.158730</td>\n",
       "      <td>0.8</td>\n",
       "      <td>1261</td>\n",
       "      <td>0.025397</td>\n",
       "      <td>0.5</td>\n",
       "      <td>0.044444</td>\n",
       "      <td>0.021587</td>\n",
       "      <td>1</td>\n",
       "      <td>3472</td>\n",
       "    </tr>\n",
       "    <tr>\n",
       "      <th>8616</th>\n",
       "      <td>Rotterdam</td>\n",
       "      <td>Buurt</td>\n",
       "      <td>710</td>\n",
       "      <td>0.478873</td>\n",
       "      <td>0.281690</td>\n",
       "      <td>0.528169</td>\n",
       "      <td>0.077465</td>\n",
       "      <td>0.056338</td>\n",
       "      <td>0.105634</td>\n",
       "      <td>0.035211</td>\n",
       "      <td>...</td>\n",
       "      <td>0.176056</td>\n",
       "      <td>0.056338</td>\n",
       "      <td>0.3</td>\n",
       "      <td>375</td>\n",
       "      <td>0.014085</td>\n",
       "      <td>0.6</td>\n",
       "      <td>0.070423</td>\n",
       "      <td>0.002817</td>\n",
       "      <td>1</td>\n",
       "      <td>5416</td>\n",
       "    </tr>\n",
       "  </tbody>\n",
       "</table>\n",
       "<p>5 rows × 54 columns</p>\n",
       "</div>"
      ],
      "text/plain": [
       "        gm_naam   recs  a_inw     a_man   a_15_24   a_25_44   a_45_64  \\\n",
       "8611  Rotterdam  Buurt  14825  0.521079  0.146712  0.471838  0.188533   \n",
       "8612  Rotterdam  Buurt   9350  0.506952  0.158289  0.305882  0.252941   \n",
       "8613  Rotterdam  Buurt   5395  0.515292  0.121409  0.469880  0.196478   \n",
       "8615  Rotterdam  Buurt   1575  0.552381  0.279365  0.285714  0.228571   \n",
       "8616  Rotterdam  Buurt    710  0.478873  0.281690  0.528169  0.077465   \n",
       "\n",
       "       a_65_oo  a_gehuwd   a_gesch   ...     a_lfto6j  a_bst_nb  g_pau_hh  \\\n",
       "8611  0.117032  0.213828  0.074874   ...     0.203373  0.152108       0.8   \n",
       "8612  0.141176  0.236364  0.116043   ...     0.171658  0.056684       0.5   \n",
       "8613  0.131603  0.189064  0.102873   ...     0.181650  0.073216       0.5   \n",
       "8615  0.146032  0.266667  0.060317   ...     0.260317  0.158730       0.8   \n",
       "8616  0.056338  0.105634  0.035211   ...     0.176056  0.056338       0.3   \n",
       "\n",
       "      g_pau_km     a_m2w  g_afs_gs  a_lan_ha  a_wat_ha  ste_mvs  ste_oad  \n",
       "8611      6042  0.025970       0.3  0.009174  0.002496        1     6383  \n",
       "8612      4024  0.011230       0.3  0.006096  0.000000        1     6397  \n",
       "8613      2581  0.014829       0.2  0.011307  0.000000        1     6283  \n",
       "8615      1261  0.025397       0.5  0.044444  0.021587        1     3472  \n",
       "8616       375  0.014085       0.6  0.070423  0.002817        1     5416  \n",
       "\n",
       "[5 rows x 54 columns]"
      ]
     },
     "execution_count": 4,
     "metadata": {},
     "output_type": "execute_result"
    }
   ],
   "source": [
    "#1. Transform all demographic columns\n",
    "\n",
    "#1a.Transform all numerical columns into int64 or float64\n",
    "df = df.apply(pd.to_numeric, errors='ignore')\n",
    "#df.dtypes\n",
    "\n",
    "#1b.Transform all demographic columns by dividing them by the total inhabitants (a_inw) of the neighbourhood\n",
    "#Remove records with zero number of inhabitants - altough are non-existent in the selected dataset\n",
    "df = df[df['a_inw'] != 0]\n",
    "    \n",
    "filter_col = [col for col in df.iloc[0:,3:] if col.startswith('a_')]\n",
    "df[filter_col] = df[filter_col].div(df['a_inw'], axis=0)\n",
    "df.head(5)       \n",
    "    \n",
    "#2. Apply any other feature engineering tricks\n",
    "#Scaling X - Transforms the data such that its distribution has a mean value 0 and standard deviation of 1\n",
    "#Done after the train-test split, in b)"
   ]
  },
  {
   "cell_type": "markdown",
   "metadata": {},
   "source": [
    "b) Create train-test split [the split is 0.25/0.75 by default]"
   ]
  },
  {
   "cell_type": "code",
   "execution_count": 5,
   "metadata": {},
   "outputs": [],
   "source": [
    "#1. Extract Y\n",
    "y = df['gm_naam']\n",
    "\n",
    "#2. Extract X\n",
    "X = df.iloc[0:,3:]\n",
    "X = np.array(X)"
   ]
  },
  {
   "cell_type": "code",
   "execution_count": 6,
   "metadata": {},
   "outputs": [
    {
     "data": {
      "text/plain": [
       "(147, 51)"
      ]
     },
     "execution_count": 6,
     "metadata": {},
     "output_type": "execute_result"
    },
    {
     "data": {
      "text/plain": [
       "(49, 51)"
      ]
     },
     "execution_count": 6,
     "metadata": {},
     "output_type": "execute_result"
    }
   ],
   "source": [
    "#3. Create train-test split\n",
    "X_train, X_test, y_train, y_test = train_test_split(X, y, random_state=10)\n",
    "X_train.shape\n",
    "X_test.shape"
   ]
  },
  {
   "cell_type": "code",
   "execution_count": 7,
   "metadata": {},
   "outputs": [],
   "source": [
    "#4. Scaling \n",
    "from sklearn.preprocessing import StandardScaler\n",
    "\n",
    "scaler = StandardScaler().fit(X_train)\n",
    "X_train_scaled = scaler.transform(X_train)\n",
    "X_test_scaled = scaler.transform(X_test)"
   ]
  },
  {
   "cell_type": "markdown",
   "metadata": {},
   "source": [
    "<b>Logistic Regression</b>"
   ]
  },
  {
   "cell_type": "markdown",
   "metadata": {},
   "source": [
    "a) Estimate a logistic regression model on the training set, with 5-fold cross validation,\n",
    "with grid search over the regularization parameter"
   ]
  },
  {
   "cell_type": "code",
   "execution_count": 8,
   "metadata": {},
   "outputs": [
    {
     "name": "stdout",
     "output_type": "stream",
     "text": [
      "Best performance:  0.946\n",
      "Best param:  {'C': 10.0}\n"
     ]
    }
   ],
   "source": [
    "from sklearn.linear_model import LogisticRegression\n",
    "\n",
    "param_grid = {'C': np.power(10.0, np.arange(-5, 5))}\n",
    "grid = GridSearchCV(LogisticRegression(), param_grid, return_train_score = True, cv=5).fit(X_train_scaled, y_train)\n",
    "\n",
    "print (\"Best performance: {: .3f}\".format(grid.best_score_))\n",
    "print (\"Best param: \", grid.best_params_)"
   ]
  },
  {
   "cell_type": "markdown",
   "metadata": {
    "collapsed": true
   },
   "source": [
    "b) Plot the validation curve (mean train/test performance for all values of the regularization\n",
    "parameter)"
   ]
  },
  {
   "cell_type": "code",
   "execution_count": 9,
   "metadata": {},
   "outputs": [],
   "source": [
    "lr_train_scores = grid.cv_results_['mean_train_score']\n",
    "lr_test_scores = grid.cv_results_['mean_test_score']\n",
    "cs = np.power(10.0, np.arange(-5, 5))"
   ]
  },
  {
   "cell_type": "code",
   "execution_count": 10,
   "metadata": {},
   "outputs": [
    {
     "data": {
      "text/plain": [
       "<matplotlib.figure.Figure at 0x1a1691a978>"
      ]
     },
     "execution_count": 10,
     "metadata": {},
     "output_type": "execute_result"
    },
    {
     "data": {
      "text/plain": [
       "Text(0.5,1,'LogisticRegression Model Performance')"
      ]
     },
     "execution_count": 10,
     "metadata": {},
     "output_type": "execute_result"
    },
    {
     "data": {
      "text/plain": [
       "Text(0.5,0,'C')"
      ]
     },
     "execution_count": 10,
     "metadata": {},
     "output_type": "execute_result"
    },
    {
     "data": {
      "text/plain": [
       "Text(0,0.5,'Score')"
      ]
     },
     "execution_count": 10,
     "metadata": {},
     "output_type": "execute_result"
    },
    {
     "data": {
      "text/plain": [
       "[<matplotlib.lines.Line2D at 0x1a155dcf60>]"
      ]
     },
     "execution_count": 10,
     "metadata": {},
     "output_type": "execute_result"
    },
    {
     "data": {
      "text/plain": [
       "[<matplotlib.lines.Line2D at 0x1a155dcbe0>]"
      ]
     },
     "execution_count": 10,
     "metadata": {},
     "output_type": "execute_result"
    },
    {
     "data": {
      "text/plain": [
       "<matplotlib.legend.Legend at 0x1a15569e48>"
      ]
     },
     "execution_count": 10,
     "metadata": {},
     "output_type": "execute_result"
    },
    {
     "data": {
      "image/png": "[encoded data removed]",
      "text/plain": [
       "<matplotlib.figure.Figure at 0x1a1691a978>"
      ]
     },
     "metadata": {},
     "output_type": "display_data"
    }
   ],
   "source": [
    "plt.figure()\n",
    "plt.title('LogisticRegression Model Performance')\n",
    "plt.xscale('log')\n",
    "plt.xlabel('C')\n",
    "plt.ylabel('Score')\n",
    "\n",
    "plt.plot(cs, lr_train_scores, label=\"Train scores\")\n",
    "plt.plot(cs, lr_test_scores, label=\"Test scores\")\n",
    "plt.legend(loc='best')"
   ]
  },
  {
   "cell_type": "markdown",
   "metadata": {},
   "source": [
    "c) What’s the best performance and at what regularization parameter?\n",
    "\n",
    "The best accuracy on the given test data is <b>Score = 0.946</b><br>\n",
    "For the regularization parameter: <b>C = 10</b>"
   ]
  },
  {
   "cell_type": "markdown",
   "metadata": {},
   "source": [
    "<b>SVM</b>"
   ]
  },
  {
   "cell_type": "markdown",
   "metadata": {},
   "source": [
    "a) Estimate an SVM model on the training set, with 5-fold cross validation, with grid search over the regularization parameter. Make sure you apply some form of feature normalization"
   ]
  },
  {
   "cell_type": "code",
   "execution_count": 11,
   "metadata": {},
   "outputs": [
    {
     "name": "stdout",
     "output_type": "stream",
     "text": [
      "Best performance:  0.939\n",
      "Best param:  {'C': 10.0}\n"
     ]
    }
   ],
   "source": [
    "from sklearn import svm\n",
    "\n",
    "#Use the standard scaler value of X_train: X_train_scaled\n",
    "param_grid = {'C': np.power(10.0, np.arange(-5, 5))}\n",
    "grid = GridSearchCV(svm.SVC(), param_grid, return_train_score = True, cv=5).fit(X_train_scaled, y_train)\n",
    "\n",
    "print (\"Best performance: {: .3f}\".format(grid.best_score_))\n",
    "print (\"Best param: \", grid.best_params_)"
   ]
  },
  {
   "cell_type": "markdown",
   "metadata": {},
   "source": [
    "b) Plot the validation curve (mean train/test performance for all values of the regularization\n",
    "parameter)"
   ]
  },
  {
   "cell_type": "code",
   "execution_count": 12,
   "metadata": {},
   "outputs": [],
   "source": [
    "svm_train_scores = grid.cv_results_['mean_train_score']\n",
    "svm_test_scores = grid.cv_results_['mean_test_score']\n",
    "cs = np.power(10.0, np.arange(-5, 5))"
   ]
  },
  {
   "cell_type": "code",
   "execution_count": 13,
   "metadata": {},
   "outputs": [
    {
     "data": {
      "text/plain": [
       "<matplotlib.figure.Figure at 0x1a153fc8d0>"
      ]
     },
     "execution_count": 13,
     "metadata": {},
     "output_type": "execute_result"
    },
    {
     "data": {
      "text/plain": [
       "Text(0.5,1,'SVM Model Performance')"
      ]
     },
     "execution_count": 13,
     "metadata": {},
     "output_type": "execute_result"
    },
    {
     "data": {
      "text/plain": [
       "Text(0.5,0,'C')"
      ]
     },
     "execution_count": 13,
     "metadata": {},
     "output_type": "execute_result"
    },
    {
     "data": {
      "text/plain": [
       "Text(0,0.5,'Score')"
      ]
     },
     "execution_count": 13,
     "metadata": {},
     "output_type": "execute_result"
    },
    {
     "data": {
      "text/plain": [
       "[<matplotlib.lines.Line2D at 0x1a1543cb70>]"
      ]
     },
     "execution_count": 13,
     "metadata": {},
     "output_type": "execute_result"
    },
    {
     "data": {
      "text/plain": [
       "[<matplotlib.lines.Line2D at 0x1a1543c978>]"
      ]
     },
     "execution_count": 13,
     "metadata": {},
     "output_type": "execute_result"
    },
    {
     "data": {
      "text/plain": [
       "<matplotlib.legend.Legend at 0x1a1543c550>"
      ]
     },
     "execution_count": 13,
     "metadata": {},
     "output_type": "execute_result"
    },
    {
     "data": {
      "image/png": "[encoded data removed]",
      "text/plain": [
       "<matplotlib.figure.Figure at 0x1a153fc8d0>"
      ]
     },
     "metadata": {},
     "output_type": "display_data"
    }
   ],
   "source": [
    "plt.figure()\n",
    "plt.title('SVM Model Performance')\n",
    "plt.xlabel('C')\n",
    "plt.xscale('log')\n",
    "plt.ylabel('Score')\n",
    "\n",
    "plt.plot(cs, svm_train_scores, label=\"Train scores\")\n",
    "plt.plot(cs, svm_test_scores, label=\"Test scores\")\n",
    "plt.legend(loc='best')"
   ]
  },
  {
   "cell_type": "markdown",
   "metadata": {},
   "source": [
    "c) What’s the best performance and at what regularization parameter?\n",
    "\n",
    "The best accuracy on the given test data is <b>Score = 0.939</b><br>\n",
    "For the regularization parameter: <b>C = 10</b>"
   ]
  },
  {
   "cell_type": "markdown",
   "metadata": {},
   "source": [
    "<b>Make the best possible model</b>"
   ]
  },
  {
   "cell_type": "markdown",
   "metadata": {},
   "source": [
    "a) Use all the tools you have learned so far to create the best possible model you can\n",
    "for this problem"
   ]
  },
  {
   "cell_type": "markdown",
   "metadata": {},
   "source": [
    "<b>Covariance Matrix</b>"
   ]
  },
  {
   "cell_type": "code",
   "execution_count": 14,
   "metadata": {},
   "outputs": [
    {
     "data": {
      "text/plain": [
       "<matplotlib.axes._subplots.AxesSubplot at 0x1a154cd668>"
      ]
     },
     "execution_count": 14,
     "metadata": {},
     "output_type": "execute_result"
    },
    {
     "data": {
      "image/png": "[encoded data removed]",
      "text/plain": [
       "<matplotlib.figure.Figure at 0x1a1549b2e8>"
      ]
     },
     "metadata": {},
     "output_type": "display_data"
    }
   ],
   "source": [
    "from scipy.cluster import hierarchy\n",
    "cov = np.cov(X_test_scaled, rowvar=False)\n",
    "\n",
    "order = np.array(hierarchy.dendrogram(hierarchy.ward(cov), no_plot=True)['ivl'], dtype=\"int\")\n",
    "sns.heatmap(cov, xticklabels=df.iloc[0:,3:].columns, yticklabels=df.iloc[0:,3:].columns)"
   ]
  },
  {
   "cell_type": "markdown",
   "metadata": {},
   "source": [
    "<b>Feature Selection</b>"
   ]
  },
  {
   "cell_type": "code",
   "execution_count": 18,
   "metadata": {},
   "outputs": [
    {
     "data": {
      "text/plain": [
       "<Container object of 51 artists>"
      ]
     },
     "execution_count": 18,
     "metadata": {},
     "output_type": "execute_result"
    },
    {
     "data": {
      "text/plain": [
       "Text(0.5,1,'Feature Importance')"
      ]
     },
     "execution_count": 18,
     "metadata": {},
     "output_type": "execute_result"
    },
    {
     "data": {
      "text/plain": [
       "Text(0.5,0,'Feature name')"
      ]
     },
     "execution_count": 18,
     "metadata": {},
     "output_type": "execute_result"
    },
    {
     "data": {
      "text/plain": [
       "(-2.7750000000000004, 52.775, 0.0, 0.14736110094210925)"
      ]
     },
     "execution_count": 18,
     "metadata": {},
     "output_type": "execute_result"
    },
    {
     "data": {
      "image/png": "[encoded data removed]",
      "text/plain": [
       "<matplotlib.figure.Figure at 0x1a15d53828>"
      ]
     },
     "metadata": {},
     "output_type": "display_data"
    }
   ],
   "source": [
    "from sklearn.ensemble import ExtraTreesClassifier\n",
    "\n",
    "eclf = ExtraTreesClassifier(random_state=10).fit(X_train_scaled, y_train)\n",
    "idx = [i for i,x in enumerate(eclf.feature_importances_) if x >=0.01]\n",
    "new_X_train_scaled = X_train_scaled[idx]\n",
    "new_y_train = np.array(y_train)[idx]\n",
    "\n",
    "plt.bar(df.iloc[0:,3:].columns, eclf.feature_importances_, width=.5, edgecolor='black')\n",
    "plt.title(\"Feature Importance\")\n",
    "plt.xlabel(\"Feature name\")\n",
    "#plt.xticks(rotation='vertical')\n",
    "plt.axis('tight')"
   ]
  },
  {
   "cell_type": "code",
   "execution_count": 19,
   "metadata": {},
   "outputs": [
    {
     "name": "stdout",
     "output_type": "stream",
     "text": [
      "Best performance:  0.952\n",
      "Best param:  {'C': 100.0}\n"
     ]
    }
   ],
   "source": [
    "param_grid = {'C': np.power(10.0, np.arange(-5, 5))}\n",
    "grid = GridSearchCV(LogisticRegression(penalty='l1'), param_grid, cv=5).fit(X_train_scaled, y_train)\n",
    "\n",
    "print (\"Best performance: {: .3f}\".format(grid.best_score_))\n",
    "print (\"Best param: \", grid.best_params_)"
   ]
  },
  {
   "cell_type": "code",
   "execution_count": 20,
   "metadata": {},
   "outputs": [
    {
     "data": {
      "text/plain": [
       "SVC(C=1.0, cache_size=200, class_weight=None, coef0=0.0,\n",
       "  decision_function_shape='ovr', degree=3, gamma='auto', kernel='linear',\n",
       "  max_iter=-1, probability=False, random_state=None, shrinking=True,\n",
       "  tol=0.001, verbose=False)"
      ]
     },
     "execution_count": 20,
     "metadata": {},
     "output_type": "execute_result"
    },
    {
     "data": {
      "text/plain": [
       "<Container object of 51 artists>"
      ]
     },
     "execution_count": 20,
     "metadata": {},
     "output_type": "execute_result"
    },
    {
     "data": {
      "text/plain": [
       "Text(0.5,1,'Feature selection')"
      ]
     },
     "execution_count": 20,
     "metadata": {},
     "output_type": "execute_result"
    },
    {
     "data": {
      "text/plain": [
       "Text(0.5,0,'Feature number')"
      ]
     },
     "execution_count": 20,
     "metadata": {},
     "output_type": "execute_result"
    },
    {
     "data": {
      "text/plain": [
       "(-2.555, 52.55500000000001, 0.0, 1.05)"
      ]
     },
     "execution_count": 20,
     "metadata": {},
     "output_type": "execute_result"
    },
    {
     "data": {
      "image/png": "[encoded data removed]",
      "text/plain": [
       "<matplotlib.figure.Figure at 0x1a152e42b0>"
      ]
     },
     "metadata": {},
     "output_type": "display_data"
    }
   ],
   "source": [
    "\n",
    "clf = svm.SVC(kernel='linear')\n",
    "clf.fit(X_train_scaled, y_train)\n",
    "\n",
    "svm_weights = (clf.coef_ ** 2).sum(axis=0)\n",
    "svm_weights /= svm_weights.max()\n",
    "\n",
    "plt.bar(df.iloc[0:,3:].columns, svm_weights, width=.1, color='c', edgecolor='black')\n",
    "plt.title(\"Feature selection\")\n",
    "plt.xlabel('Feature number')\n",
    "#plt.yticks(())\n",
    "#plt.xticks(rotation=90)\n",
    "plt.axis('tight')"
   ]
  },
  {
   "cell_type": "code",
   "execution_count": 21,
   "metadata": {},
   "outputs": [
    {
     "data": {
      "text/plain": [
       "LogisticRegression(C=1, class_weight=None, dual=False, fit_intercept=True,\n",
       "          intercept_scaling=1, max_iter=100, multi_class='ovr', n_jobs=1,\n",
       "          penalty='l2', random_state=None, solver='liblinear', tol=0.0001,\n",
       "          verbose=0, warm_start=False)"
      ]
     },
     "execution_count": 21,
     "metadata": {},
     "output_type": "execute_result"
    },
    {
     "data": {
      "text/plain": [
       "LogisticRegression(C=10, class_weight=None, dual=False, fit_intercept=True,\n",
       "          intercept_scaling=1, max_iter=100, multi_class='ovr', n_jobs=1,\n",
       "          penalty='l2', random_state=None, solver='liblinear', tol=0.0001,\n",
       "          verbose=0, warm_start=False)"
      ]
     },
     "execution_count": 21,
     "metadata": {},
     "output_type": "execute_result"
    },
    {
     "data": {
      "text/plain": [
       "LogisticRegression(C=100, class_weight=None, dual=False, fit_intercept=True,\n",
       "          intercept_scaling=1, max_iter=100, multi_class='ovr', n_jobs=1,\n",
       "          penalty='l2', random_state=None, solver='liblinear', tol=0.0001,\n",
       "          verbose=0, warm_start=False)"
      ]
     },
     "execution_count": 21,
     "metadata": {},
     "output_type": "execute_result"
    },
    {
     "data": {
      "text/plain": [
       "LogisticRegression(C=1000, class_weight=None, dual=False, fit_intercept=True,\n",
       "          intercept_scaling=1, max_iter=100, multi_class='ovr', n_jobs=1,\n",
       "          penalty='l2', random_state=None, solver='liblinear', tol=0.0001,\n",
       "          verbose=0, warm_start=False)"
      ]
     },
     "execution_count": 21,
     "metadata": {},
     "output_type": "execute_result"
    },
    {
     "data": {
      "text/plain": [
       "LogisticRegression(C=10000, class_weight=None, dual=False, fit_intercept=True,\n",
       "          intercept_scaling=1, max_iter=100, multi_class='ovr', n_jobs=1,\n",
       "          penalty='l2', random_state=None, solver='liblinear', tol=0.0001,\n",
       "          verbose=0, warm_start=False)"
      ]
     },
     "execution_count": 21,
     "metadata": {},
     "output_type": "execute_result"
    },
    {
     "data": {
      "text/plain": [
       "[array([-0.0518086 , -0.35646123,  0.40751413,  0.29673616,  0.14892409,\n",
       "        -0.05137489, -0.85694868,  0.39947618,  0.59073065, -0.14793632,\n",
       "         0.89182282, -0.02119662, -0.06376324,  0.21575094, -0.05722645,\n",
       "        -0.1255422 ,  0.68913208, -0.04102022,  0.01818719,  0.18499489,\n",
       "        -1.07987485,  0.55936465, -0.41625767,  0.33823529,  0.23641975,\n",
       "         0.15132368,  0.53588378, -0.47488964, -0.62849034, -0.15857315,\n",
       "        -1.39484234, -0.49115605,  0.10193386, -0.04778689,  0.36587918,\n",
       "        -0.97670407,  0.99939039,  0.29666426,  0.56493379, -0.04054021,\n",
       "         0.03269755, -0.53975611, -1.48516702,  0.01275494, -0.31589685,\n",
       "         0.08391243,  0.0686966 ,  0.36272593,  0.35532117,  0.29824592,\n",
       "         0.52299243]),\n",
       " array([-0.19312814, -0.65626227,  1.10220414,  0.47554616,  0.37990701,\n",
       "        -0.27695111, -1.65856886,  0.91960712,  1.04053135, -0.30946755,\n",
       "         1.85711153, -0.17474738, -0.05712156,  0.29746517, -0.00860029,\n",
       "        -0.13508654,  1.33314377, -0.21939096, -0.07647879,  0.48677499,\n",
       "        -1.85778687,  0.84222958, -0.73440255,  0.52486044,  0.33148837,\n",
       "         0.29091198,  1.14606828, -0.97486049, -1.06509142, -0.18344011,\n",
       "        -2.55266886, -0.738097  ,  0.25168174, -0.13504675,  0.73297807,\n",
       "        -1.78479195,  1.91140518,  0.60071214,  0.93246933, -0.15181651,\n",
       "         0.30937183, -1.04535991, -3.17612336,  0.29632536, -0.68196007,\n",
       "         0.31972737,  0.02054652,  0.45802376,  0.75016321,  0.89717733,\n",
       "         0.75470012]),\n",
       " array([-0.37907662, -0.9804294 ,  2.01879852,  0.71712943,  0.72905264,\n",
       "        -0.58144761, -2.5282595 ,  1.50683351,  1.58770086, -0.45850909,\n",
       "         3.13158496, -0.35295538, -0.01637168,  0.35981798,  0.03082104,\n",
       "        -0.09503476,  1.9374463 , -0.49425653, -0.40169274,  1.04721263,\n",
       "        -2.77502137,  1.16955493, -1.1354813 ,  0.6962908 ,  0.39397546,\n",
       "         0.49945655,  1.99580904, -1.63544712, -1.68084812,  0.00960578,\n",
       "        -4.03610996, -1.07531471,  0.47548832, -0.11988914,  1.17904721,\n",
       "        -2.77824514,  3.04907567,  0.99834698,  1.29042462, -0.31999161,\n",
       "         0.67802775, -1.74333449, -5.26647897,  0.69647661, -1.14802215,\n",
       "         0.63323362, -0.11469326,  0.54952651,  1.22222071,  1.55121273,\n",
       "         1.05759061]),\n",
       " array([-0.60210994, -1.35129257,  3.02155981,  1.08915219,  1.09200405,\n",
       "        -0.9070035 , -3.36529079,  2.1156649 ,  2.18236821, -0.6243927 ,\n",
       "         4.59565687, -0.62566935,  0.03849629,  0.43764992,  0.10104699,\n",
       "        -0.03353745,  2.50581629, -1.0532448 , -0.82192329,  1.69535863,\n",
       "        -3.87249058,  1.47678632, -1.52643776,  0.83001495,  0.42120969,\n",
       "         0.71092637,  3.01819546, -2.3858229 , -2.39525   ,  0.3171397 ,\n",
       "        -5.7233116 , -1.41876394,  0.69587257, -0.13886206,  1.59013355,\n",
       "        -3.94161204,  4.23265417,  1.41453288,  1.6447996 , -0.52412985,\n",
       "         1.12237086, -2.51920033, -7.55322655,  1.13567406, -1.81396443,\n",
       "         0.96749457, -0.30576479,  0.68856288,  1.75411382,  2.15184741,\n",
       "         1.36531152]),\n",
       " array([-0.8791205 , -1.88727895,  3.57928864,  1.57351379,  1.38795196,\n",
       "        -1.15400602, -4.36718401,  2.72120628,  2.89921668, -0.92115159,\n",
       "         6.23416491, -1.05029447,  0.09624151,  0.46260486,  0.20035507,\n",
       "        -0.04865702,  3.25135582, -1.5794157 , -0.9552455 ,  2.03225376,\n",
       "        -5.25089599,  1.78716521, -1.94046498,  1.09975635,  0.50925453,\n",
       "         0.97016638,  3.71792566, -2.96800119, -2.9512316 ,  0.42025757,\n",
       "        -7.41362885, -1.73421811,  0.86634549, -0.2799053 ,  1.97655145,\n",
       "        -5.09834633,  5.42158679,  1.6943334 ,  2.15142297, -0.61335558,\n",
       "         1.59724782, -3.1062432 , -9.84318971,  1.41127007, -2.50444923,\n",
       "         1.23937052, -0.4455044 ,  0.93527831,  2.14655028,  2.66589625,\n",
       "         1.59167705])]"
      ]
     },
     "execution_count": 21,
     "metadata": {},
     "output_type": "execute_result"
    },
    {
     "data": {
      "text/plain": [
       "[1, 10, 100, 1000, 10000]"
      ]
     },
     "execution_count": 21,
     "metadata": {},
     "output_type": "execute_result"
    },
    {
     "data": {
      "text/plain": [
       "[<matplotlib.lines.Line2D at 0x1a16467cf8>,\n",
       " <matplotlib.lines.Line2D at 0x1a16467f60>,\n",
       " <matplotlib.lines.Line2D at 0x1a164720f0>,\n",
       " <matplotlib.lines.Line2D at 0x1a16472240>,\n",
       " <matplotlib.lines.Line2D at 0x1a16472390>,\n",
       " <matplotlib.lines.Line2D at 0x1a164724e0>,\n",
       " <matplotlib.lines.Line2D at 0x1a16472630>,\n",
       " <matplotlib.lines.Line2D at 0x1a16472780>,\n",
       " <matplotlib.lines.Line2D at 0x1a164728d0>,\n",
       " <matplotlib.lines.Line2D at 0x1a16472a20>,\n",
       " <matplotlib.lines.Line2D at 0x1a16452048>,\n",
       " <matplotlib.lines.Line2D at 0x1a16472c88>,\n",
       " <matplotlib.lines.Line2D at 0x1a16472dd8>,\n",
       " <matplotlib.lines.Line2D at 0x1a16472f28>,\n",
       " <matplotlib.lines.Line2D at 0x1a164770b8>,\n",
       " <matplotlib.lines.Line2D at 0x1a16477208>,\n",
       " <matplotlib.lines.Line2D at 0x1a16477358>,\n",
       " <matplotlib.lines.Line2D at 0x1a164774a8>,\n",
       " <matplotlib.lines.Line2D at 0x1a164775f8>,\n",
       " <matplotlib.lines.Line2D at 0x1a16477748>,\n",
       " <matplotlib.lines.Line2D at 0x1a16477898>,\n",
       " <matplotlib.lines.Line2D at 0x1a164779e8>,\n",
       " <matplotlib.lines.Line2D at 0x1a16477b38>,\n",
       " <matplotlib.lines.Line2D at 0x1a16477c88>,\n",
       " <matplotlib.lines.Line2D at 0x1a16477dd8>,\n",
       " <matplotlib.lines.Line2D at 0x1a16477f28>,\n",
       " <matplotlib.lines.Line2D at 0x1a1647b0b8>,\n",
       " <matplotlib.lines.Line2D at 0x1a1647b208>,\n",
       " <matplotlib.lines.Line2D at 0x1a1647b358>,\n",
       " <matplotlib.lines.Line2D at 0x1a1647b4a8>,\n",
       " <matplotlib.lines.Line2D at 0x1a1647b5f8>,\n",
       " <matplotlib.lines.Line2D at 0x1a1647b748>,\n",
       " <matplotlib.lines.Line2D at 0x1a1647b898>,\n",
       " <matplotlib.lines.Line2D at 0x1a1647b9e8>,\n",
       " <matplotlib.lines.Line2D at 0x1a1647bb38>,\n",
       " <matplotlib.lines.Line2D at 0x1a1647bc88>,\n",
       " <matplotlib.lines.Line2D at 0x1a1647bdd8>,\n",
       " <matplotlib.lines.Line2D at 0x1a1647bf28>,\n",
       " <matplotlib.lines.Line2D at 0x1a164820b8>,\n",
       " <matplotlib.lines.Line2D at 0x1a16482208>,\n",
       " <matplotlib.lines.Line2D at 0x1a16482358>,\n",
       " <matplotlib.lines.Line2D at 0x1a164824a8>,\n",
       " <matplotlib.lines.Line2D at 0x1a164825f8>,\n",
       " <matplotlib.lines.Line2D at 0x1a16482748>,\n",
       " <matplotlib.lines.Line2D at 0x1a16482898>,\n",
       " <matplotlib.lines.Line2D at 0x1a164829e8>,\n",
       " <matplotlib.lines.Line2D at 0x1a16482b38>,\n",
       " <matplotlib.lines.Line2D at 0x1a16482c88>,\n",
       " <matplotlib.lines.Line2D at 0x1a16482dd8>,\n",
       " <matplotlib.lines.Line2D at 0x1a16482f28>,\n",
       " <matplotlib.lines.Line2D at 0x1a161660b8>]"
      ]
     },
     "execution_count": 21,
     "metadata": {},
     "output_type": "execute_result"
    },
    {
     "data": {
      "text/plain": [
       "Text(0.5,0,'C')"
      ]
     },
     "execution_count": 21,
     "metadata": {},
     "output_type": "execute_result"
    },
    {
     "data": {
      "text/plain": [
       "Text(0,0.5,'weight coefficient')"
      ]
     },
     "execution_count": 21,
     "metadata": {},
     "output_type": "execute_result"
    },
    {
     "data": {
      "image/png": "[encoded data removed]",
      "text/plain": [
       "<matplotlib.figure.Figure at 0x1a161fd4a8>"
      ]
     },
     "metadata": {},
     "output_type": "display_data"
    }
   ],
   "source": [
    "coef, params = [], []\n",
    "for c in np.arange(0, 5):\n",
    "   lr = LogisticRegression(C=10**c)\n",
    "   lr.fit(X_train_scaled, y_train)\n",
    "   coef.append(lr.coef_[1])\n",
    "   params.append(10**c)\n",
    "\n",
    "coef\n",
    "params\n",
    "\n",
    "coef = np.array(coef)\n",
    "\n",
    "# Decision region drawing\n",
    "plt.plot(params, coef)\n",
    "plt.xlabel('C')\n",
    "plt.xscale('log')\n",
    "plt.ylabel('weight coefficient')\n",
    "\n"
   ]
  },
  {
   "cell_type": "code",
   "execution_count": 144,
   "metadata": {},
   "outputs": [],
   "source": [
    "# sns.stripplot(x=df.gm_naam, y=df.a_inw)"
   ]
  },
  {
   "cell_type": "code",
   "execution_count": 48,
   "metadata": {},
   "outputs": [
    {
     "name": "stdout",
     "output_type": "stream",
     "text": [
      "Best performance:  0.912\n",
      "Best param:  {'max_depth': 4, 'n_estimators': 90}\n"
     ]
    }
   ],
   "source": [
    "from sklearn.ensemble import RandomForestClassifier\n",
    "\n",
    "param_grid = {'max_depth': np.arange(3, 10), 'n_estimators': np.arange(50, 100, 10)}  # max_features=5,\n",
    "grid = GridSearchCV(RandomForestClassifier(random_state=10), param_grid, return_train_score = True, cv=5).fit(X_train_scaled, y_train)\n",
    "print (\"Best performance: {: .3f}\".format(grid.best_score_))\n",
    "print (\"Best param: \", grid.best_params_)"
   ]
  },
  {
   "cell_type": "code",
   "execution_count": 77,
   "metadata": {},
   "outputs": [
    {
     "data": {
      "text/plain": [
       "0.9390362811791384"
      ]
     },
     "execution_count": 77,
     "metadata": {},
     "output_type": "execute_result"
    },
    {
     "name": "stdout",
     "output_type": "stream",
     "text": [
      "Best performance:  0.946\n",
      "Best param:  {'C': 10.0}\n"
     ]
    }
   ],
   "source": [
    "scores = cross_val_score(LogisticRegression(C=10), X_train_scaled, y_train)\n",
    "scores.mean()\n",
    "\n",
    "param_grid = {'C': np.power(10.0, np.arange(-5, 5))}\n",
    "grid = GridSearchCV(LogisticRegression(), param_grid, return_train_score = True, cv=5).fit(X_train_scaled, y_train)\n",
    "print (\"Best performance: {: .3f}\".format(grid.best_score_))\n",
    "print (\"Best param: \", grid.best_params_)\n",
    "\n",
    "#grid.best_estimator_.coef_"
   ]
  },
  {
   "cell_type": "code",
   "execution_count": 23,
   "metadata": {},
   "outputs": [
    {
     "name": "stdout",
     "output_type": "stream",
     "text": [
      "Best performance:  0.850\n",
      "Best param:  {'n_neighbors': 4}\n"
     ]
    }
   ],
   "source": [
    "from sklearn.neighbors import KNeighborsClassifier\n",
    "\n",
    "param_grid = {'n_neighbors': np.arange(2, 10)}\n",
    "grid = GridSearchCV(KNeighborsClassifier(), param_grid, return_train_score = True, cv=5).fit(X_train_scaled, y_train)\n",
    "print (\"Best performance: {: .3f}\".format(grid.best_score_))\n",
    "print (\"Best param: \", grid.best_params_)"
   ]
  },
  {
   "cell_type": "code",
   "execution_count": 24,
   "metadata": {},
   "outputs": [
    {
     "data": {
      "text/plain": [
       "KNeighborsClassifier(algorithm='auto', leaf_size=30, metric='minkowski',\n",
       "           metric_params=None, n_jobs=1, n_neighbors=5, p=2,\n",
       "           weights='uniform')"
      ]
     },
     "execution_count": 24,
     "metadata": {},
     "output_type": "execute_result"
    },
    {
     "data": {
      "text/plain": [
       "0.9523809523809523"
      ]
     },
     "execution_count": 24,
     "metadata": {},
     "output_type": "execute_result"
    },
    {
     "data": {
      "text/plain": [
       "0.7830839002267574"
      ]
     },
     "execution_count": 24,
     "metadata": {},
     "output_type": "execute_result"
    }
   ],
   "source": [
    "clf = KNeighborsClassifier(n_neighbors = 5)\n",
    "clf.fit(X_train_scaled, y_train)\n",
    "clf.score(X_train_scaled, y_train)\n",
    "\n",
    "score = cross_val_score(KNeighborsClassifier(n_neighbors = 5), X_train_scaled, y_train)\n",
    "score.mean()\n"
   ]
  },
  {
   "cell_type": "code",
   "execution_count": 63,
   "metadata": {},
   "outputs": [
    {
     "name": "stdout",
     "output_type": "stream",
     "text": [
      "{'alpha': 0.01}\n",
      "0.9042079460798667\n"
     ]
    },
    {
     "name": "stderr",
     "output_type": "stream",
     "text": [
      "/anaconda3/lib/python3.6/site-packages/sklearn/metrics/classification.py:1135: UndefinedMetricWarning: F-score is ill-defined and being set to 0.0 in labels with no predicted samples.\n",
      "  'precision', 'predicted', average, warn_for)\n",
      "/anaconda3/lib/python3.6/site-packages/sklearn/metrics/classification.py:1135: UndefinedMetricWarning: F-score is ill-defined and being set to 0.0 in labels with no predicted samples.\n",
      "  'precision', 'predicted', average, warn_for)\n",
      "/anaconda3/lib/python3.6/site-packages/sklearn/metrics/classification.py:1135: UndefinedMetricWarning: F-score is ill-defined and being set to 0.0 in labels with no predicted samples.\n",
      "  'precision', 'predicted', average, warn_for)\n",
      "/anaconda3/lib/python3.6/site-packages/sklearn/metrics/classification.py:1135: UndefinedMetricWarning: F-score is ill-defined and being set to 0.0 in labels with no predicted samples.\n",
      "  'precision', 'predicted', average, warn_for)\n",
      "/anaconda3/lib/python3.6/site-packages/sklearn/metrics/classification.py:1135: UndefinedMetricWarning: F-score is ill-defined and being set to 0.0 in labels with no predicted samples.\n",
      "  'precision', 'predicted', average, warn_for)\n",
      "/anaconda3/lib/python3.6/site-packages/sklearn/metrics/classification.py:1135: UndefinedMetricWarning: F-score is ill-defined and being set to 0.0 in labels with no predicted samples.\n",
      "  'precision', 'predicted', average, warn_for)\n",
      "/anaconda3/lib/python3.6/site-packages/sklearn/metrics/classification.py:1135: UndefinedMetricWarning: F-score is ill-defined and being set to 0.0 in labels with no predicted samples.\n",
      "  'precision', 'predicted', average, warn_for)\n",
      "/anaconda3/lib/python3.6/site-packages/sklearn/metrics/classification.py:1135: UndefinedMetricWarning: F-score is ill-defined and being set to 0.0 in labels with no predicted samples.\n",
      "  'precision', 'predicted', average, warn_for)\n",
      "/anaconda3/lib/python3.6/site-packages/sklearn/metrics/classification.py:1135: UndefinedMetricWarning: F-score is ill-defined and being set to 0.0 in labels with no predicted samples.\n",
      "  'precision', 'predicted', average, warn_for)\n",
      "/anaconda3/lib/python3.6/site-packages/sklearn/metrics/classification.py:1135: UndefinedMetricWarning: F-score is ill-defined and being set to 0.0 in labels with no predicted samples.\n",
      "  'precision', 'predicted', average, warn_for)\n",
      "/anaconda3/lib/python3.6/site-packages/sklearn/metrics/classification.py:1135: UndefinedMetricWarning: F-score is ill-defined and being set to 0.0 in labels with no predicted samples.\n",
      "  'precision', 'predicted', average, warn_for)\n",
      "/anaconda3/lib/python3.6/site-packages/sklearn/metrics/classification.py:1135: UndefinedMetricWarning: F-score is ill-defined and being set to 0.0 in labels with no predicted samples.\n",
      "  'precision', 'predicted', average, warn_for)\n",
      "/anaconda3/lib/python3.6/site-packages/sklearn/metrics/classification.py:1135: UndefinedMetricWarning: F-score is ill-defined and being set to 0.0 in labels with no predicted samples.\n",
      "  'precision', 'predicted', average, warn_for)\n",
      "/anaconda3/lib/python3.6/site-packages/sklearn/metrics/classification.py:1135: UndefinedMetricWarning: F-score is ill-defined and being set to 0.0 in labels with no predicted samples.\n",
      "  'precision', 'predicted', average, warn_for)\n",
      "/anaconda3/lib/python3.6/site-packages/sklearn/metrics/classification.py:1135: UndefinedMetricWarning: F-score is ill-defined and being set to 0.0 in labels with no predicted samples.\n",
      "  'precision', 'predicted', average, warn_for)\n",
      "/anaconda3/lib/python3.6/site-packages/sklearn/metrics/classification.py:1135: UndefinedMetricWarning: F-score is ill-defined and being set to 0.0 in labels with no predicted samples.\n",
      "  'precision', 'predicted', average, warn_for)\n",
      "/anaconda3/lib/python3.6/site-packages/sklearn/metrics/classification.py:1135: UndefinedMetricWarning: F-score is ill-defined and being set to 0.0 in labels with no predicted samples.\n",
      "  'precision', 'predicted', average, warn_for)\n",
      "/anaconda3/lib/python3.6/site-packages/sklearn/metrics/classification.py:1135: UndefinedMetricWarning: F-score is ill-defined and being set to 0.0 in labels with no predicted samples.\n",
      "  'precision', 'predicted', average, warn_for)\n",
      "/anaconda3/lib/python3.6/site-packages/sklearn/metrics/classification.py:1135: UndefinedMetricWarning: F-score is ill-defined and being set to 0.0 in labels with no predicted samples.\n",
      "  'precision', 'predicted', average, warn_for)\n",
      "/anaconda3/lib/python3.6/site-packages/sklearn/metrics/classification.py:1135: UndefinedMetricWarning: F-score is ill-defined and being set to 0.0 in labels with no predicted samples.\n",
      "  'precision', 'predicted', average, warn_for)\n",
      "/anaconda3/lib/python3.6/site-packages/sklearn/metrics/classification.py:1135: UndefinedMetricWarning: F-score is ill-defined and being set to 0.0 in labels with no predicted samples.\n",
      "  'precision', 'predicted', average, warn_for)\n",
      "/anaconda3/lib/python3.6/site-packages/sklearn/metrics/classification.py:1135: UndefinedMetricWarning: F-score is ill-defined and being set to 0.0 in labels with no predicted samples.\n",
      "  'precision', 'predicted', average, warn_for)\n"
     ]
    }
   ],
   "source": [
    "from sklearn.linear_model import SGDClassifier\n",
    "\n",
    "param_grid = {'alpha': np.power(10.0, np.arange(-5, 5))}\n",
    "clf = SGDClassifier(loss='hinge', penalty='elasticnet', l1_ratio=0.15, max_iter=5, shuffle=True, verbose=False, average=False, class_weight='balanced')\n",
    "sgd_grid = GridSearchCV(clf, param_grid, cv=5, scoring='f1_macro').fit(X_train_scaled, y_train)\n",
    "print(sgd_grid.best_params_)    \n",
    "print(sgd_grid.best_score_)   \n",
    "\n",
    "\n",
    "for i in range(0, sgd_grid.best_estimator_.coef_.shape[0]):\n",
    "    top10 = np.argsort(sgd_grid.best_estimator_.coef_[i])[-10:]"
   ]
  },
  {
   "cell_type": "code",
   "execution_count": 26,
   "metadata": {},
   "outputs": [
    {
     "name": "stdout",
     "output_type": "stream",
     "text": [
      "Select top 10 features\n"
     ]
    },
    {
     "data": {
      "text/plain": [
       "(147, 51)"
      ]
     },
     "execution_count": 26,
     "metadata": {},
     "output_type": "execute_result"
    },
    {
     "data": {
      "text/plain": [
       "(147, 10)"
      ]
     },
     "execution_count": 26,
     "metadata": {},
     "output_type": "execute_result"
    },
    {
     "name": "stdout",
     "output_type": "stream",
     "text": [
      "Select most important features \n"
     ]
    },
    {
     "data": {
      "text/plain": [
       "(147, 51)"
      ]
     },
     "execution_count": 26,
     "metadata": {},
     "output_type": "execute_result"
    },
    {
     "data": {
      "text/plain": [
       "(147, 21)"
      ]
     },
     "execution_count": 26,
     "metadata": {},
     "output_type": "execute_result"
    },
    {
     "data": {
      "text/plain": [
       "0.9183446712018141"
      ]
     },
     "execution_count": 26,
     "metadata": {},
     "output_type": "execute_result"
    }
   ],
   "source": [
    "#Select top 10 features\n",
    "from sklearn.feature_selection import SelectKBest\n",
    "select = SelectKBest(k=10).fit(X_train_scaled, y_train)\n",
    "print(\"Select top 10 features\")\n",
    "X_train_scaled.shape\n",
    "select.transform(X_train_scaled).shape\n",
    "\n",
    "#Select most important features \n",
    "from sklearn.feature_selection import SelectFromModel\n",
    "from sklearn.svm import LinearSVC\n",
    "from sklearn.pipeline import make_pipeline\n",
    "\n",
    "clf = LinearSVC(C=10, dual=False).fit(X_train_scaled, y_train)\n",
    "select = SelectFromModel(clf).fit(X_train_scaled, y_train)\n",
    "print(\"Select most important features \")\n",
    "X_train_scaled.shape\n",
    "select.transform(X_train_scaled).shape\n",
    "\n",
    "pipe = make_pipeline(select, LogisticRegression(C=10))\n",
    "np.mean(cross_val_score(pipe, X_train_scaled, y_train))"
   ]
  },
  {
   "cell_type": "code",
   "execution_count": 27,
   "metadata": {},
   "outputs": [],
   "source": [
    "idx = np.random.permutation(X_train.shape[1])\n",
    "X_train_shuffeled, y_train_shuffeled = X_train_scaled[idx], np.array(y_train)[idx]"
   ]
  },
  {
   "cell_type": "code",
   "execution_count": 61,
   "metadata": {},
   "outputs": [
    {
     "data": {
      "text/plain": [
       "RandomForestClassifier(bootstrap=True, class_weight=None, criterion='gini',\n",
       "            max_depth=7, max_features=4, max_leaf_nodes=None,\n",
       "            min_impurity_decrease=0.0, min_impurity_split=None,\n",
       "            min_samples_leaf=1, min_samples_split=2,\n",
       "            min_weight_fraction_leaf=0.0, n_estimators=110, n_jobs=1,\n",
       "            oob_score=False, random_state=10, verbose=0, warm_start=False)"
      ]
     },
     "execution_count": 61,
     "metadata": {},
     "output_type": "execute_result"
    },
    {
     "name": "stdout",
     "output_type": "stream",
     "text": [
      "Best performance:  1.000\n"
     ]
    }
   ],
   "source": [
    "fst = RandomForestClassifier(n_estimators = 110, max_depth=7, max_features = 4, random_state=10)\n",
    "fst.fit(X_train, y_train)\n",
    "print (\"Best performance: {: .3f}\".format(fst.score(X_train, y_train)))"
   ]
  },
  {
   "cell_type": "code",
   "execution_count": 74,
   "metadata": {},
   "outputs": [
    {
     "name": "stdout",
     "output_type": "stream",
     "text": [
      "Best performance:  0.946\n",
      "Best param:  {'C': 10.0}\n"
     ]
    }
   ],
   "source": [
    "from sklearn.preprocessing import StandardScaler\n",
    "from sklearn.pipeline import Pipeline\n",
    "\n",
    "param_grid = {'C': np.power(10.0, np.arange(-5, 5))}\n",
    "estimators = [('scaler', StandardScaler()), ('grid', GridSearchCV(LogisticRegression(penalty='l1', random_state=10), param_grid, cv=5))]\n",
    "pipe = Pipeline(estimators).fit(X_train, y_train)\n",
    "\n",
    "grid = pipe.named_steps['grid']\n",
    "print (\"Best performance: {: .3f}\".format(grid.best_score_))\n",
    "print (\"Best param: \", grid.best_params_)"
   ]
  },
  {
   "cell_type": "markdown",
   "metadata": {},
   "source": [
    "b) Feel free to further inspect the training dataset (not the test set) to further improve\n",
    "your feature engineering"
   ]
  },
  {
   "cell_type": "markdown",
   "metadata": {},
   "source": [
    "c) Show your work and motivate your choices"
   ]
  },
  {
   "cell_type": "markdown",
   "metadata": {},
   "source": [
    "<b>Evaluate on the test set and conclude</b>"
   ]
  },
  {
   "cell_type": "code",
   "execution_count": 19,
   "metadata": {},
   "outputs": [
    {
     "data": {
      "text/plain": [
       "VotingClassifier(estimators=[('logreg_l2', LogisticRegression(C=10, class_weight=None, dual=False, fit_intercept=True,\n",
       "          intercept_scaling=1, max_iter=100, multi_class='ovr', n_jobs=1,\n",
       "          penalty='l2', random_state=None, solver='liblinear', tol=0.0001,\n",
       "          verbose=0, warm_start=False)), ('logreg...timators=110, n_jobs=1,\n",
       "            oob_score=False, random_state=10, verbose=0, warm_start=False))],\n",
       "         flatten_transform=None, n_jobs=1, voting='soft', weights=None)"
      ]
     },
     "execution_count": 19,
     "metadata": {},
     "output_type": "execute_result"
    },
    {
     "name": "stdout",
     "output_type": "stream",
     "text": [
      "Best performance:  0.939\n",
      "Best performance:  0.000\n",
      "Best performance:  0.000\n",
      "Best performance:  0.000\n"
     ]
    },
    {
     "name": "stderr",
     "output_type": "stream",
     "text": [
      "/anaconda3/lib/python3.6/site-packages/sklearn/preprocessing/label.py:151: DeprecationWarning: The truth value of an empty array is ambiguous. Returning False, but in future this will result in an error. Use `array.size > 0` to check that an array is not empty.\n",
      "  if diff:\n"
     ]
    }
   ],
   "source": [
    "from sklearn.ensemble import VotingClassifier\n",
    "from sklearn.linear_model import LogisticRegression\n",
    "from sklearn.ensemble import RandomForestClassifier\n",
    "\n",
    "voting = VotingClassifier([('logreg_l2', LogisticRegression(C=10)),\n",
    "                           ('logreg_l1', LogisticRegression(C=100, penalty='l1')),\n",
    "                           ('tree', RandomForestClassifier(n_estimators = 110, max_depth=7, max_features = 4, random_state=10))\n",
    "                          ], voting = 'soft')\n",
    "voting.fit(X_train_scaled, y_train)\n",
    "lr2, lr1, tree = voting.estimators_\n",
    "print (\"Best performance: {: .3f}\".format(voting.score(X_test_scaled, y_test)))\n",
    "print (\"Best performance: {: .3f}\".format(lr2.score(X_test_scaled, y_test)))\n",
    "print (\"Best performance: {: .3f}\".format(lr1.score(X_test_scaled, y_test)))\n",
    "print (\"Best performance: {: .3f}\".format(tree.score(X_test_scaled, y_test)))"
   ]
  },
  {
   "cell_type": "code",
   "execution_count": null,
   "metadata": {},
   "outputs": [],
   "source": []
  }
 ],
 "metadata": {
  "kernelspec": {
   "display_name": "Python 3",
   "language": "python",
   "name": "python3"
  },
  "language_info": {
   "codemirror_mode": {
    "name": "ipython",
    "version": 3
   },
   "file_extension": ".py",
   "mimetype": "text/x-python",
   "name": "python",
   "nbconvert_exporter": "python",
   "pygments_lexer": "ipython3",
   "version": "3.6.4"
  }
 },
 "nbformat": 4,
 "nbformat_minor": 2
}
